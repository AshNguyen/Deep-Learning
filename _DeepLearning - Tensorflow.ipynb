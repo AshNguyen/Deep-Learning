{
 "cells": [
  {
   "cell_type": "code",
   "execution_count": 34,
   "metadata": {
    "collapsed": true
   },
   "outputs": [],
   "source": [
    "import tensorflow as tf "
   ]
  },
  {
   "cell_type": "code",
   "execution_count": 35,
   "metadata": {
    "collapsed": false
   },
   "outputs": [],
   "source": [
    "from datetime import datetime\n",
    "\n",
    "now = datetime.utcnow().strftime(\"%Y.%m.%d-%H.%M.%S\")\n",
    "root_logdir = \"tensor_logs\"\n",
    "logdir = \"/Users/ash/Downloads/tensorflow/{}/run-{}/\".format(root_logdir, now)"
   ]
  },
  {
   "cell_type": "code",
   "execution_count": 36,
   "metadata": {
    "collapsed": false
   },
   "outputs": [
    {
     "name": "stdout",
     "output_type": "stream",
     "text": [
      "Successfully downloaded train-images-idx3-ubyte.gz 9912422 bytes.\n",
      "Extracting /Users/ash/Downloads/tensorflow/data/train-images-idx3-ubyte.gz\n",
      "Successfully downloaded train-labels-idx1-ubyte.gz 28881 bytes.\n",
      "Extracting /Users/ash/Downloads/tensorflow/data/train-labels-idx1-ubyte.gz\n",
      "Successfully downloaded t10k-images-idx3-ubyte.gz 1648877 bytes.\n",
      "Extracting /Users/ash/Downloads/tensorflow/data/t10k-images-idx3-ubyte.gz\n",
      "Successfully downloaded t10k-labels-idx1-ubyte.gz 4542 bytes.\n",
      "Extracting /Users/ash/Downloads/tensorflow/data/t10k-labels-idx1-ubyte.gz\n"
     ]
    }
   ],
   "source": [
    "from tensorflow.examples.tutorials.mnist import input_data\n",
    "data = input_data.read_data_sets(\"/Users/ash/Downloads/tensorflow/data/\")"
   ]
  },
  {
   "cell_type": "code",
   "execution_count": 40,
   "metadata": {
    "collapsed": false
   },
   "outputs": [],
   "source": [
    "inputs= 28*28  \n",
    "hidden1 = 512\n",
    "hidden2 = 300\n",
    "outputs = 10\n",
    "alpha=0.01\n",
    "\n",
    "X=tf.placeholder(tf.float32, shape=(None,inputs), name='X')\n",
    "y=tf.placeholder(tf.int32, shape=(None), name='y')\n",
    "\n",
    "def layer(X, neurons, name, activ):\n",
    "    with tf.name_scope(name):\n",
    "        inputs = int(X.get_shape()[1])\n",
    "        std = 2 / np.sqrt(inputs)\n",
    "        W = tf.Variable(tf.truncated_normal((inputs, neurons), stddev=std), name=\"weights\")\n",
    "        b = tf.Variable(tf.zeros([neurons]), name=\"biases\")\n",
    "        z = tf.matmul(X, W) + b\n",
    "        if activ==\"relu\":\n",
    "            return tf.nn.relu(z)\n",
    "        else:\n",
    "            return z\n",
    "        \n",
    "with tf.name_scope('DenseNet'): \n",
    "    layer1=layer(X, neurons=hidden1, name='hidden1', activ='relu')\n",
    "    layer2=layer(X, neurons=hidden2, name='hidden2', activ='relu')\n",
    "    meta_output=layer(X, neurons=outputs, name='meta_out', activ=None)\n",
    "\n",
    "with tf.name_scope(\"loss\"):\n",
    "    entropy = tf.nn.sparse_softmax_cross_entropy_with_logits(\n",
    "                   labels=y, logits=meta_output)\n",
    "    loss = tf.reduce_mean(entropy, name=\"loss\") \n",
    "    \n",
    "with tf.name_scope(\"GDOptimizer\"):\n",
    "    optimizer = tf.train.GradientDescentOptimizer(alpha)\n",
    "    training_op = optimizer.minimize(loss)\n",
    "\n",
    "with tf.name_scope(\"softmax\"):\n",
    "    correct = tf.nn.in_top_k(meta_output, y, 1)\n",
    "    accuracy = tf.reduce_mean(tf.cast(correct, tf.float32))\n",
    "\n",
    "init = tf.global_variables_initializer()\n",
    "saver = tf.train.Saver() "
   ]
  },
  {
   "cell_type": "code",
   "execution_count": 47,
   "metadata": {
    "collapsed": true
   },
   "outputs": [],
   "source": [
    "train_summary = tf.summary.scalar('TrainAccuracy', acc_train)\n",
    "test_summary = tf.summary.scalar('TestAccuracy', acc_test)\n",
    "file_writer = tf.summary.FileWriter(logdir, tf.get_default_graph())"
   ]
  },
  {
   "cell_type": "code",
   "execution_count": 51,
   "metadata": {
    "collapsed": false
   },
   "outputs": [
    {
     "name": "stdout",
     "output_type": "stream",
     "text": [
      "0 Train accuracy: 0.78 Test accuracy: 0.8592\n",
      "1 Train accuracy: 0.96 Test accuracy: 0.8825\n",
      "2 Train accuracy: 0.88 Test accuracy: 0.893\n",
      "3 Train accuracy: 0.86 Test accuracy: 0.8988\n",
      "4 Train accuracy: 0.94 Test accuracy: 0.9008\n",
      "5 Train accuracy: 0.92 Test accuracy: 0.9048\n",
      "6 Train accuracy: 0.9 Test accuracy: 0.9071\n",
      "7 Train accuracy: 0.88 Test accuracy: 0.9094\n",
      "8 Train accuracy: 0.98 Test accuracy: 0.91\n",
      "9 Train accuracy: 0.88 Test accuracy: 0.9111\n",
      "10 Train accuracy: 0.9 Test accuracy: 0.9115\n",
      "11 Train accuracy: 0.88 Test accuracy: 0.9128\n",
      "12 Train accuracy: 0.98 Test accuracy: 0.9144\n",
      "13 Train accuracy: 0.94 Test accuracy: 0.9147\n",
      "14 Train accuracy: 0.92 Test accuracy: 0.9156\n",
      "15 Train accuracy: 0.94 Test accuracy: 0.9146\n",
      "16 Train accuracy: 0.86 Test accuracy: 0.9166\n",
      "17 Train accuracy: 0.96 Test accuracy: 0.9159\n",
      "18 Train accuracy: 0.92 Test accuracy: 0.916\n",
      "19 Train accuracy: 0.88 Test accuracy: 0.9162\n"
     ]
    }
   ],
   "source": [
    "batch=50\n",
    "epoch=20\n",
    "\n",
    "with tf.Session() as sess:\n",
    "    init.run()\n",
    "    for epoch in range(epoch):\n",
    "        for iteration in range(data.train.num_examples // batch):\n",
    "            X_batch, y_batch = data.train.next_batch(batch)\n",
    "            sess.run(training_op, feed_dict={X: X_batch, y: y_batch})\n",
    "        acc_train = accuracy.eval(feed_dict={X: X_batch, y: y_batch})\n",
    "        acc_test = accuracy.eval(feed_dict={X: data.test.images, y: data.test.labels})\n",
    "        print(epoch, \"Train accuracy:\", acc_train, \"Test accuracy:\", acc_test)\n",
    "    save_path = saver.save(sess, \"/Users/ash/Downloads/tensorflow/densenn.ckpt\") "
   ]
  },
  {
   "cell_type": "code",
   "execution_count": 50,
   "metadata": {
    "collapsed": false
   },
   "outputs": [],
   "source": [
    "file_writer.close()"
   ]
  }
 ],
 "metadata": {
  "kernelspec": {
   "display_name": "Python 3",
   "language": "python",
   "name": "python3"
  },
  "language_info": {
   "codemirror_mode": {
    "name": "ipython",
    "version": 3
   },
   "file_extension": ".py",
   "mimetype": "text/x-python",
   "name": "python",
   "nbconvert_exporter": "python",
   "pygments_lexer": "ipython3",
   "version": "3.6.0"
  }
 },
 "nbformat": 4,
 "nbformat_minor": 2
}
