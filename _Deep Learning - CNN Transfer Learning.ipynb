{
 "cells": [
  {
   "cell_type": "code",
   "execution_count": 2,
   "metadata": {},
   "outputs": [
    {
     "name": "stderr",
     "output_type": "stream",
     "text": [
      "Using TensorFlow backend.\n"
     ]
    }
   ],
   "source": [
    "import numpy as np \n",
    "import matplotlib.pyplot as plt\n",
    "\n",
    "from keras.applications.vgg16 import VGG16\n",
    "from keras.preprocessing import image\n",
    "from keras.applications.vgg16 import preprocess_input\n",
    "from keras.models import Model\n",
    "from keras.layers import Dense, GlobalAveragePooling2D"
   ]
  },
  {
   "cell_type": "code",
   "execution_count": 9,
   "metadata": {},
   "outputs": [],
   "source": [
    "base_model = VGG16(weights='imagenet', include_top=False)\n",
    "x = base_model.output\n",
    "x = GlobalAveragePooling2D()(x)\n",
    "x = Dense(10, activation='relu')(x)\n",
    "out = Dense(1, activation='sigmoid')(x)\n",
    "model = Model(inputs=base_model.input, outputs=out)\n",
    "for layer in base_model.layers:\n",
    "    layer.trainable = False"
   ]
  },
  {
   "cell_type": "code",
   "execution_count": 11,
   "metadata": {},
   "outputs": [],
   "source": [
    "model.compile(optimizer='rmsprop',\n",
    "              loss='binary_crossentropy',\n",
    "              metrics=['binary_accuracy'])"
   ]
  },
  {
   "cell_type": "code",
   "execution_count": 12,
   "metadata": {},
   "outputs": [],
   "source": [
    "man = np.load('/Users/ash/Downloads/man.data')\n",
    "woman = np.load('/Users/ash/Downloads/woman.data')\n",
    "\n",
    "_man, _woman = np.zeros(shape=man.shape), np.zeros(shape=woman.shape)\n",
    "\n",
    "for _ in range(_man.shape[0]): \n",
    "    x = man[_]\n",
    "#     x = np.expand_dims(x, axis=0)\n",
    "#     x = preprocess_input(x)\n",
    "    _man[_] = x/255 \n",
    "\n",
    "for _ in range(_woman.shape[0]): \n",
    "    x = woman[_]\n",
    "#     x = np.expand_dims(x, axis=0)\n",
    "#     x = preprocess_input(x)\n",
    "    _woman[_] = x/255"
   ]
  },
  {
   "cell_type": "code",
   "execution_count": 13,
   "metadata": {},
   "outputs": [],
   "source": [
    "data = np.concatenate((_man,_woman), axis=0)\n",
    "label = np.zeros(shape=(data.shape[0], 1))\n",
    "label[:_man.shape[0],:] = 1"
   ]
  },
  {
   "cell_type": "code",
   "execution_count": 14,
   "metadata": {},
   "outputs": [
    {
     "name": "stdout",
     "output_type": "stream",
     "text": [
      "Train on 320 samples, validate on 80 samples\n",
      "Epoch 1/10\n",
      "320/320 [==============================] - 164s 513ms/step - loss: 0.6538 - binary_accuracy: 0.6219 - val_loss: 0.9805 - val_binary_accuracy: 0.0000e+00\n",
      "Epoch 2/10\n",
      "320/320 [==============================] - 145s 453ms/step - loss: 0.6389 - binary_accuracy: 0.6250 - val_loss: 0.9817 - val_binary_accuracy: 0.0000e+00\n",
      "Epoch 3/10\n",
      "320/320 [==============================] - 144s 450ms/step - loss: 0.6243 - binary_accuracy: 0.6281 - val_loss: 0.8775 - val_binary_accuracy: 0.0500\n",
      "Epoch 4/10\n",
      "320/320 [==============================] - 145s 452ms/step - loss: 0.6119 - binary_accuracy: 0.6406 - val_loss: 0.8539 - val_binary_accuracy: 0.1375\n",
      "Epoch 5/10\n",
      "320/320 [==============================] - 145s 455ms/step - loss: 0.6020 - binary_accuracy: 0.6719 - val_loss: 0.9837 - val_binary_accuracy: 0.0125\n",
      "Epoch 6/10\n",
      "320/320 [==============================] - 153s 478ms/step - loss: 0.5920 - binary_accuracy: 0.6719 - val_loss: 0.8943 - val_binary_accuracy: 0.1750\n",
      "Epoch 7/10\n",
      "320/320 [==============================] - 148s 464ms/step - loss: 0.5788 - binary_accuracy: 0.6906 - val_loss: 0.9000 - val_binary_accuracy: 0.1875\n",
      "Epoch 8/10\n",
      "320/320 [==============================] - 152s 475ms/step - loss: 0.5683 - binary_accuracy: 0.7250 - val_loss: 1.0086 - val_binary_accuracy: 0.1250\n",
      "Epoch 9/10\n",
      "320/320 [==============================] - 134s 418ms/step - loss: 0.5587 - binary_accuracy: 0.7125 - val_loss: 0.8684 - val_binary_accuracy: 0.2500\n",
      "Epoch 10/10\n",
      "320/320 [==============================] - 134s 419ms/step - loss: 0.5435 - binary_accuracy: 0.7250 - val_loss: 0.7326 - val_binary_accuracy: 0.4375\n"
     ]
    },
    {
     "data": {
      "text/plain": [
       "<keras.callbacks.History at 0xb3da010f0>"
      ]
     },
     "execution_count": 14,
     "metadata": {},
     "output_type": "execute_result"
    }
   ],
   "source": [
    "model.fit(data, label, epochs=10, batch_size=32, validation_split=0.2)"
   ]
  }
 ],
 "metadata": {
  "kernelspec": {
   "display_name": "Python 3",
   "language": "python",
   "name": "python3"
  },
  "language_info": {
   "codemirror_mode": {
    "name": "ipython",
    "version": 3
   },
   "file_extension": ".py",
   "mimetype": "text/x-python",
   "name": "python",
   "nbconvert_exporter": "python",
   "pygments_lexer": "ipython3",
   "version": "3.6.6"
  }
 },
 "nbformat": 4,
 "nbformat_minor": 2
}
