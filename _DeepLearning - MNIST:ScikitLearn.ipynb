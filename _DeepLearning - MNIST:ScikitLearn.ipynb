{
 "cells": [
  {
   "cell_type": "markdown",
   "metadata": {
    "collapsed": true
   },
   "source": [
    "#  Preparing Data"
   ]
  },
  {
   "cell_type": "code",
   "execution_count": 1,
   "metadata": {
    "collapsed": true
   },
   "outputs": [],
   "source": [
    "from sklearn.datasets import fetch_mldata \n",
    "data=fetch_mldata('MNIST original')"
   ]
  },
  {
   "cell_type": "code",
   "execution_count": 2,
   "metadata": {
    "collapsed": true
   },
   "outputs": [],
   "source": [
    "X, y = data[\"data\"], data[\"target\"]\n",
    "X_train, X_test, y_train, y_test = X[:60000], X[60000:], y[:60000], y[60000:]"
   ]
  },
  {
   "cell_type": "code",
   "execution_count": 3,
   "metadata": {
    "collapsed": false
   },
   "outputs": [],
   "source": [
    "import numpy as np\n",
    "shuffle_index = np.random.permutation(60000)\n",
    "X_train, y_train = X_train[shuffle_index], y_train[shuffle_index] "
   ]
  },
  {
   "cell_type": "code",
   "execution_count": 4,
   "metadata": {
    "collapsed": false
   },
   "outputs": [
    {
     "data": {
      "text/plain": [
       "(60000, 784)"
      ]
     },
     "execution_count": 4,
     "metadata": {},
     "output_type": "execute_result"
    }
   ],
   "source": [
    "X_train.shape"
   ]
  },
  {
   "cell_type": "markdown",
   "metadata": {},
   "source": [
    "# Model Specification"
   ]
  },
  {
   "cell_type": "code",
   "execution_count": 4,
   "metadata": {
    "collapsed": false
   },
   "outputs": [
    {
     "data": {
      "text/plain": [
       "BernoulliNB(alpha=1.0, binarize=0.0, class_prior=None, fit_prior=True)"
      ]
     },
     "execution_count": 4,
     "metadata": {},
     "output_type": "execute_result"
    }
   ],
   "source": [
    "from sklearn.linear_model import RidgeClassifier, SGDClassifier\n",
    "from sklearn.naive_bayes import BernoulliNB\n",
    "\n",
    "model_sgd=SGDClassifier(max_iter=5, tol=None)\n",
    "model_sgd.fit(X_train, y_train)\n",
    "\n",
    "model_ridge=RidgeClassifier()\n",
    "model_ridge.fit(X_train, y_train)\n",
    "\n",
    "model_bern=BernoulliNB()\n",
    "model_bern.fit(X_train, y_train)"
   ]
  },
  {
   "cell_type": "code",
   "execution_count": 5,
   "metadata": {
    "collapsed": false
   },
   "outputs": [
    {
     "data": {
      "image/png": "[encoded data removed]",
      "text/plain": [
       "<matplotlib.figure.Figure at 0x10ef10400>"
      ]
     },
     "metadata": {},
     "output_type": "display_data"
    },
    {
     "name": "stdout",
     "output_type": "stream",
     "text": [
      "Accuracy on the test set [SGDC, Naive Bayes, Ridge]: 0.865300 0.841300 0.860300\n"
     ]
    }
   ],
   "source": [
    "import matplotlib\n",
    "import matplotlib.pyplot as plt \n",
    "def plot_mnist(var):\n",
    "    im=var.reshape(28,28)\n",
    "    plt.imshow(im, cmap = matplotlib.cm.binary,\n",
    "           interpolation=\"nearest\")\n",
    "    plt.axis(\"off\")\n",
    "    plt.show()\n",
    "test=X[12500]\n",
    "\n",
    "plot_mnist(test)\n",
    "result_sgd=model_sgd.predict(X_test)\n",
    "sgd = result_sgd==y_test\n",
    "a=sum(sgd)/len(sgd)\n",
    "\n",
    "result_nb=model_bern.predict(X_test)\n",
    "nb = result_nb==y_test\n",
    "b=sum(nb)/len(nb)\n",
    "\n",
    "result_ridge=model_ridge.predict(X_test)\n",
    "ridge = result_ridge==y_test\n",
    "c=sum(ridge)/len(ridge)\n",
    "\n",
    "print('Accuracy on the test set [SGDC, Naive Bayes, Ridge]: %3.6f %3.6f %3.6f'% (a, b, c))"
   ]
  },
  {
   "cell_type": "markdown",
   "metadata": {},
   "source": [
    "SGD seemed to have the best accuracy with default settings, while a Bernoulli Naive Bayes performed worst. At first I thought it was because a Bernoulli assumption was insufficient to capture the real distributions of the 28x28 feature space, but experimenting with Gaussian distribution yielded even worst results. Clearly, this indicates the features are not independent, which is to be expected since grayscale pixels of handwritten digits are quite predictable and correlated. Experimentation with further exploration of settings for SGD is below. "
   ]
  },
  {
   "cell_type": "markdown",
   "metadata": {},
   "source": [
    "# SGD"
   ]
  },
  {
   "cell_type": "code",
   "execution_count": 8,
   "metadata": {
    "collapsed": false
   },
   "outputs": [],
   "source": [
    "l=[]\n",
    "r=[]\n",
    "for i in range(25): \n",
    "    model_sgd=SGDClassifier(max_iter=5, tol=None)\n",
    "    model_sgd.fit(X_train, y_train)\n",
    "    result_sgd=model_sgd.predict(X_test)\n",
    "    sgd = result_sgd==y_test\n",
    "    l.append(sum(sgd)/len(sgd))\n",
    "    result_s=model_sgd.predict(X_train)\n",
    "    s = result_s==y_train\n",
    "    r.append(sum(s)/len(s))"
   ]
  },
  {
   "cell_type": "code",
   "execution_count": 9,
   "metadata": {
    "collapsed": false
   },
   "outputs": [
    {
     "data": {
      "image/png": "[encoded data removed]",
      "text/plain": [
       "<matplotlib.figure.Figure at 0x1a214378d0>"
      ]
     },
     "metadata": {},
     "output_type": "display_data"
    }
   ],
   "source": [
    "import matplotlib.pyplot as plt\n",
    "plt.scatter(r,l)\n",
    "plt.xlabel('Training Accuracy')\n",
    "plt.ylabel('Test Accuracy')\n",
    "plt.title('Train/Test Accuracy For SGDClassifier, MNIST Dataset')\n",
    "plt.show()"
   ]
  },
  {
   "cell_type": "code",
   "execution_count": 10,
   "metadata": {
    "collapsed": false
   },
   "outputs": [
    {
     "name": "stdout",
     "output_type": "stream",
     "text": [
      "Adjusted SGD accuracy: 0.9027\n"
     ]
    }
   ],
   "source": [
    "SGD=SGDClassifier(loss='log', penalty='l1', alpha=0.001, max_iter=5, tol=None)\n",
    "SGD.fit(X_train, y_train)\n",
    "result_sgd=SGD.predict(X_test)\n",
    "sgd = result_sgd==y_test\n",
    "a=sum(sgd)/len(sgd)\n",
    "print('Adjusted SGD accuracy:',a)"
   ]
  },
  {
   "cell_type": "code",
   "execution_count": 11,
   "metadata": {
    "collapsed": false
   },
   "outputs": [
    {
     "name": "stdout",
     "output_type": "stream",
     "text": [
      "3-fold cross validation accuracy on train set: [ 0.89412118  0.8899945   0.88843326]\n"
     ]
    }
   ],
   "source": [
    "from sklearn.model_selection import cross_val_score, cross_val_predict\n",
    "x=cross_val_score(SGD,X_train,y_train, cv=3, scoring='accuracy')\n",
    "print(\"3-fold cross validation accuracy on train set:\", x)"
   ]
  },
  {
   "cell_type": "code",
   "execution_count": 12,
   "metadata": {
    "collapsed": false
   },
   "outputs": [
    {
     "name": "stdout",
     "output_type": "stream",
     "text": [
      "Precision scores for each class: \n",
      "  [ 0.94167498  0.9534608   0.9028522   0.88155922  0.91195295  0.8490566\n",
      "  0.93552189  0.92359987  0.76585736  0.86762936]\n",
      "Recall scores for each class: \n",
      "  [ 0.95677866  0.9541679   0.87663646  0.86315446  0.90243067  0.80520199\n",
      "  0.93899966  0.91077414  0.86258759  0.84837788]\n",
      "Confusion Matrix for each class \n",
      "\n"
     ]
    }
   ],
   "source": [
    "import pandas as pd\n",
    "from sklearn.metrics import confusion_matrix, precision_score, recall_score\n",
    "pred=cross_val_predict(SGD,X_train,y_train, cv=3)\n",
    "mat=confusion_matrix(y_train, pred)\n",
    "print('Precision scores for each class: \\n ',precision_score(y_train,pred,average=None))\n",
    "print('Recall scores for each class: \\n ',recall_score(y_train,pred,average=None))\n",
    "print('Confusion Matrix for each class \\n')"
   ]
  },
  {
   "cell_type": "code",
   "execution_count": 13,
   "metadata": {
    "collapsed": false
   },
   "outputs": [
    {
     "data": {
      "image/png": "[encoded data removed]",
      "text/plain": [
       "<matplotlib.figure.Figure at 0x10bc28550>"
      ]
     },
     "metadata": {},
     "output_type": "display_data"
    },
    {
     "data": {
      "text/html": [
       "<div>\n",
       "<style scoped>\n",
       "    .dataframe tbody tr th:only-of-type {\n",
       "        vertical-align: middle;\n",
       "    }\n",
       "\n",
       "    .dataframe tbody tr th {\n",
       "        vertical-align: top;\n",
       "    }\n",
       "\n",
       "    .dataframe thead th {\n",
       "        text-align: right;\n",
       "    }\n",
       "</style>\n",
       "<table border=\"1\" class=\"dataframe\">\n",
       "  <thead>\n",
       "    <tr style=\"text-align: right;\">\n",
       "      <th></th>\n",
       "      <th>0</th>\n",
       "      <th>1</th>\n",
       "      <th>2</th>\n",
       "      <th>3</th>\n",
       "      <th>4</th>\n",
       "      <th>5</th>\n",
       "      <th>6</th>\n",
       "      <th>7</th>\n",
       "      <th>8</th>\n",
       "      <th>9</th>\n",
       "    </tr>\n",
       "  </thead>\n",
       "  <tbody>\n",
       "    <tr>\n",
       "      <th>0</th>\n",
       "      <td>5667</td>\n",
       "      <td>0</td>\n",
       "      <td>18</td>\n",
       "      <td>18</td>\n",
       "      <td>8</td>\n",
       "      <td>32</td>\n",
       "      <td>43</td>\n",
       "      <td>7</td>\n",
       "      <td>121</td>\n",
       "      <td>9</td>\n",
       "    </tr>\n",
       "    <tr>\n",
       "      <th>1</th>\n",
       "      <td>3</td>\n",
       "      <td>6433</td>\n",
       "      <td>48</td>\n",
       "      <td>25</td>\n",
       "      <td>9</td>\n",
       "      <td>38</td>\n",
       "      <td>11</td>\n",
       "      <td>10</td>\n",
       "      <td>151</td>\n",
       "      <td>14</td>\n",
       "    </tr>\n",
       "    <tr>\n",
       "      <th>2</th>\n",
       "      <td>39</td>\n",
       "      <td>42</td>\n",
       "      <td>5223</td>\n",
       "      <td>106</td>\n",
       "      <td>84</td>\n",
       "      <td>45</td>\n",
       "      <td>85</td>\n",
       "      <td>74</td>\n",
       "      <td>238</td>\n",
       "      <td>22</td>\n",
       "    </tr>\n",
       "    <tr>\n",
       "      <th>3</th>\n",
       "      <td>37</td>\n",
       "      <td>43</td>\n",
       "      <td>162</td>\n",
       "      <td>5292</td>\n",
       "      <td>9</td>\n",
       "      <td>237</td>\n",
       "      <td>29</td>\n",
       "      <td>49</td>\n",
       "      <td>205</td>\n",
       "      <td>68</td>\n",
       "    </tr>\n",
       "    <tr>\n",
       "      <th>4</th>\n",
       "      <td>16</td>\n",
       "      <td>19</td>\n",
       "      <td>35</td>\n",
       "      <td>17</td>\n",
       "      <td>5272</td>\n",
       "      <td>15</td>\n",
       "      <td>41</td>\n",
       "      <td>19</td>\n",
       "      <td>173</td>\n",
       "      <td>235</td>\n",
       "    </tr>\n",
       "    <tr>\n",
       "      <th>5</th>\n",
       "      <td>95</td>\n",
       "      <td>33</td>\n",
       "      <td>58</td>\n",
       "      <td>262</td>\n",
       "      <td>82</td>\n",
       "      <td>4365</td>\n",
       "      <td>124</td>\n",
       "      <td>29</td>\n",
       "      <td>279</td>\n",
       "      <td>94</td>\n",
       "    </tr>\n",
       "    <tr>\n",
       "      <th>6</th>\n",
       "      <td>34</td>\n",
       "      <td>15</td>\n",
       "      <td>45</td>\n",
       "      <td>11</td>\n",
       "      <td>41</td>\n",
       "      <td>88</td>\n",
       "      <td>5557</td>\n",
       "      <td>12</td>\n",
       "      <td>106</td>\n",
       "      <td>9</td>\n",
       "    </tr>\n",
       "    <tr>\n",
       "      <th>7</th>\n",
       "      <td>45</td>\n",
       "      <td>19</td>\n",
       "      <td>101</td>\n",
       "      <td>46</td>\n",
       "      <td>58</td>\n",
       "      <td>15</td>\n",
       "      <td>11</td>\n",
       "      <td>5706</td>\n",
       "      <td>66</td>\n",
       "      <td>198</td>\n",
       "    </tr>\n",
       "    <tr>\n",
       "      <th>8</th>\n",
       "      <td>43</td>\n",
       "      <td>111</td>\n",
       "      <td>72</td>\n",
       "      <td>138</td>\n",
       "      <td>24</td>\n",
       "      <td>238</td>\n",
       "      <td>36</td>\n",
       "      <td>21</td>\n",
       "      <td>5047</td>\n",
       "      <td>121</td>\n",
       "    </tr>\n",
       "    <tr>\n",
       "      <th>9</th>\n",
       "      <td>39</td>\n",
       "      <td>32</td>\n",
       "      <td>23</td>\n",
       "      <td>88</td>\n",
       "      <td>194</td>\n",
       "      <td>68</td>\n",
       "      <td>3</td>\n",
       "      <td>251</td>\n",
       "      <td>204</td>\n",
       "      <td>5047</td>\n",
       "    </tr>\n",
       "  </tbody>\n",
       "</table>\n",
       "</div>"
      ],
      "text/plain": [
       "      0     1     2     3     4     5     6     7     8     9\n",
       "0  5667     0    18    18     8    32    43     7   121     9\n",
       "1     3  6433    48    25     9    38    11    10   151    14\n",
       "2    39    42  5223   106    84    45    85    74   238    22\n",
       "3    37    43   162  5292     9   237    29    49   205    68\n",
       "4    16    19    35    17  5272    15    41    19   173   235\n",
       "5    95    33    58   262    82  4365   124    29   279    94\n",
       "6    34    15    45    11    41    88  5557    12   106     9\n",
       "7    45    19   101    46    58    15    11  5706    66   198\n",
       "8    43   111    72   138    24   238    36    21  5047   121\n",
       "9    39    32    23    88   194    68     3   251   204  5047"
      ]
     },
     "execution_count": 13,
     "metadata": {},
     "output_type": "execute_result"
    }
   ],
   "source": [
    "plt.matshow(mat, cmap=plt.cm.Greens)\n",
    "plt.show()\n",
    "pd.DataFrame(mat)"
   ]
  },
  {
   "cell_type": "markdown",
   "metadata": {},
   "source": [
    "# Ensemble Model: Random Forest"
   ]
  },
  {
   "cell_type": "code",
   "execution_count": 14,
   "metadata": {
    "collapsed": false
   },
   "outputs": [
    {
     "name": "stdout",
     "output_type": "stream",
     "text": [
      "Accuracy for adjusted random forest without pruning: 0.9483\n"
     ]
    }
   ],
   "source": [
    "from sklearn.ensemble import RandomForestClassifier\n",
    "\n",
    "RF=RandomForestClassifier(criterion='entropy')\n",
    "RF.fit(X_train,y_train)\n",
    "results_rf=RF.predict(X_test)\n",
    "rf=results_rf==y_test\n",
    "print('Accuracy for adjusted random forest without pruning:',sum(rf)/len(rf))"
   ]
  },
  {
   "cell_type": "code",
   "execution_count": 15,
   "metadata": {
    "collapsed": false
   },
   "outputs": [],
   "source": [
    "#Varying forest trees\n",
    "import matplotlib.pyplot as plt\n",
    "\n",
    "empty_1=[]\n",
    "empty_2=[]\n",
    "for _ in range(1,15): \n",
    "    RF_1=RandomForestClassifier(criterion='entropy', n_estimators=_)\n",
    "    RF_1.fit(X_train,y_train)\n",
    "    results_rf_1=RF_1.predict(X_test)\n",
    "    rf_1=results_rf_1==y_test\n",
    "    me_1=sum(rf_1)/len(rf_1)\n",
    "    empty_1.append(me_1)\n",
    "    RF_2=RandomForestClassifier(criterion='gini', n_estimators=_)\n",
    "    RF_2.fit(X_train,y_train)\n",
    "    results_rf_2=RF_2.predict(X_test)\n",
    "    rf_2=results_rf_2==y_test\n",
    "    me_2=sum(rf_2)/len(rf_2)\n",
    "    empty_2.append(me_2)"
   ]
  },
  {
   "cell_type": "code",
   "execution_count": 16,
   "metadata": {
    "collapsed": false
   },
   "outputs": [
    {
     "data": {
      "image/png": "[encoded data removed]",
      "text/plain": [
       "<matplotlib.figure.Figure at 0x1a1352ab38>"
      ]
     },
     "metadata": {},
     "output_type": "display_data"
    }
   ],
   "source": [
    "ash1, =plt.plot([_ for _ in range(1,15)], empty_1, \"red\")\n",
    "ash2, =plt.plot([_ for _ in range(1,15)], empty_2, \"blue\")\n",
    "plt.xlabel('Number of tree')\n",
    "plt.ylabel('Accuracy')\n",
    "plt.title('N. of Tree Versus Accuracy For Random Forest Classifier, MNIST Dataset')\n",
    "plt.legend([ash1, ash2], ['Information Gain', 'Gini Purity'])\n",
    "plt.show()"
   ]
  },
  {
   "cell_type": "markdown",
   "metadata": {},
   "source": [
    "The fact that a non-linear model such as Random Forest outperform linear model like Naive Bayes or Ridge Regression indicates somewhat that the space is non-linear. "
   ]
  },
  {
   "cell_type": "code",
   "execution_count": 17,
   "metadata": {
    "collapsed": false
   },
   "outputs": [
    {
     "name": "stdout",
     "output_type": "stream",
     "text": [
      "Precision scores for each class: \n",
      "  [ 0.9594438   0.9708553   0.92259859  0.9198044   0.93214646  0.92854464\n",
      "  0.96144132  0.95761079  0.94286735  0.92985766]\n",
      "Recall scores for each class: \n",
      "  [ 0.97855816  0.98323939  0.9462907   0.9204045   0.95001712  0.91330013\n",
      "  0.96485299  0.95195531  0.90258076  0.91141368]\n",
      "Confusion Matrix for each class \n",
      "\n"
     ]
    }
   ],
   "source": [
    "pred_rf=cross_val_predict(RF,X_train,y_train, cv=3)\n",
    "mat_rf=confusion_matrix(y_train, pred_rf)\n",
    "print('Precision scores for each class: \\n ',precision_score(y_train,pred_rf,average=None))\n",
    "print('Recall scores for each class: \\n ',recall_score(y_train,pred_rf,average=None))\n",
    "print('Confusion Matrix for each class \\n')"
   ]
  },
  {
   "cell_type": "code",
   "execution_count": 18,
   "metadata": {
    "collapsed": false
   },
   "outputs": [
    {
     "data": {
      "image/png": "[encoded data removed]",
      "text/plain": [
       "<matplotlib.figure.Figure at 0x1a137d24e0>"
      ]
     },
     "metadata": {},
     "output_type": "display_data"
    },
    {
     "data": {
      "text/html": [
       "<div>\n",
       "<style scoped>\n",
       "    .dataframe tbody tr th:only-of-type {\n",
       "        vertical-align: middle;\n",
       "    }\n",
       "\n",
       "    .dataframe tbody tr th {\n",
       "        vertical-align: top;\n",
       "    }\n",
       "\n",
       "    .dataframe thead th {\n",
       "        text-align: right;\n",
       "    }\n",
       "</style>\n",
       "<table border=\"1\" class=\"dataframe\">\n",
       "  <thead>\n",
       "    <tr style=\"text-align: right;\">\n",
       "      <th></th>\n",
       "      <th>0</th>\n",
       "      <th>1</th>\n",
       "      <th>2</th>\n",
       "      <th>3</th>\n",
       "      <th>4</th>\n",
       "      <th>5</th>\n",
       "      <th>6</th>\n",
       "      <th>7</th>\n",
       "      <th>8</th>\n",
       "      <th>9</th>\n",
       "    </tr>\n",
       "  </thead>\n",
       "  <tbody>\n",
       "    <tr>\n",
       "      <th>0</th>\n",
       "      <td>5796</td>\n",
       "      <td>3</td>\n",
       "      <td>17</td>\n",
       "      <td>9</td>\n",
       "      <td>6</td>\n",
       "      <td>24</td>\n",
       "      <td>28</td>\n",
       "      <td>2</td>\n",
       "      <td>34</td>\n",
       "      <td>4</td>\n",
       "    </tr>\n",
       "    <tr>\n",
       "      <th>1</th>\n",
       "      <td>1</td>\n",
       "      <td>6629</td>\n",
       "      <td>38</td>\n",
       "      <td>12</td>\n",
       "      <td>10</td>\n",
       "      <td>12</td>\n",
       "      <td>7</td>\n",
       "      <td>14</td>\n",
       "      <td>13</td>\n",
       "      <td>6</td>\n",
       "    </tr>\n",
       "    <tr>\n",
       "      <th>2</th>\n",
       "      <td>44</td>\n",
       "      <td>32</td>\n",
       "      <td>5638</td>\n",
       "      <td>42</td>\n",
       "      <td>32</td>\n",
       "      <td>8</td>\n",
       "      <td>35</td>\n",
       "      <td>59</td>\n",
       "      <td>55</td>\n",
       "      <td>13</td>\n",
       "    </tr>\n",
       "    <tr>\n",
       "      <th>3</th>\n",
       "      <td>19</td>\n",
       "      <td>23</td>\n",
       "      <td>130</td>\n",
       "      <td>5643</td>\n",
       "      <td>9</td>\n",
       "      <td>132</td>\n",
       "      <td>4</td>\n",
       "      <td>59</td>\n",
       "      <td>72</td>\n",
       "      <td>40</td>\n",
       "    </tr>\n",
       "    <tr>\n",
       "      <th>4</th>\n",
       "      <td>21</td>\n",
       "      <td>13</td>\n",
       "      <td>22</td>\n",
       "      <td>11</td>\n",
       "      <td>5550</td>\n",
       "      <td>5</td>\n",
       "      <td>44</td>\n",
       "      <td>17</td>\n",
       "      <td>15</td>\n",
       "      <td>144</td>\n",
       "    </tr>\n",
       "    <tr>\n",
       "      <th>5</th>\n",
       "      <td>43</td>\n",
       "      <td>23</td>\n",
       "      <td>29</td>\n",
       "      <td>191</td>\n",
       "      <td>25</td>\n",
       "      <td>4951</td>\n",
       "      <td>57</td>\n",
       "      <td>8</td>\n",
       "      <td>47</td>\n",
       "      <td>47</td>\n",
       "    </tr>\n",
       "    <tr>\n",
       "      <th>6</th>\n",
       "      <td>41</td>\n",
       "      <td>15</td>\n",
       "      <td>28</td>\n",
       "      <td>3</td>\n",
       "      <td>37</td>\n",
       "      <td>64</td>\n",
       "      <td>5710</td>\n",
       "      <td>1</td>\n",
       "      <td>17</td>\n",
       "      <td>2</td>\n",
       "    </tr>\n",
       "    <tr>\n",
       "      <th>7</th>\n",
       "      <td>12</td>\n",
       "      <td>26</td>\n",
       "      <td>88</td>\n",
       "      <td>18</td>\n",
       "      <td>54</td>\n",
       "      <td>6</td>\n",
       "      <td>2</td>\n",
       "      <td>5964</td>\n",
       "      <td>15</td>\n",
       "      <td>80</td>\n",
       "    </tr>\n",
       "    <tr>\n",
       "      <th>8</th>\n",
       "      <td>32</td>\n",
       "      <td>48</td>\n",
       "      <td>86</td>\n",
       "      <td>119</td>\n",
       "      <td>51</td>\n",
       "      <td>95</td>\n",
       "      <td>45</td>\n",
       "      <td>21</td>\n",
       "      <td>5281</td>\n",
       "      <td>73</td>\n",
       "    </tr>\n",
       "    <tr>\n",
       "      <th>9</th>\n",
       "      <td>32</td>\n",
       "      <td>16</td>\n",
       "      <td>35</td>\n",
       "      <td>87</td>\n",
       "      <td>180</td>\n",
       "      <td>35</td>\n",
       "      <td>7</td>\n",
       "      <td>83</td>\n",
       "      <td>52</td>\n",
       "      <td>5422</td>\n",
       "    </tr>\n",
       "  </tbody>\n",
       "</table>\n",
       "</div>"
      ],
      "text/plain": [
       "      0     1     2     3     4     5     6     7     8     9\n",
       "0  5796     3    17     9     6    24    28     2    34     4\n",
       "1     1  6629    38    12    10    12     7    14    13     6\n",
       "2    44    32  5638    42    32     8    35    59    55    13\n",
       "3    19    23   130  5643     9   132     4    59    72    40\n",
       "4    21    13    22    11  5550     5    44    17    15   144\n",
       "5    43    23    29   191    25  4951    57     8    47    47\n",
       "6    41    15    28     3    37    64  5710     1    17     2\n",
       "7    12    26    88    18    54     6     2  5964    15    80\n",
       "8    32    48    86   119    51    95    45    21  5281    73\n",
       "9    32    16    35    87   180    35     7    83    52  5422"
      ]
     },
     "execution_count": 18,
     "metadata": {},
     "output_type": "execute_result"
    }
   ],
   "source": [
    "plt.matshow(mat_rf, cmap=plt.cm.Greens)\n",
    "plt.show()\n",
    "pd.DataFrame(mat_rf)"
   ]
  },
  {
   "cell_type": "code",
   "execution_count": 19,
   "metadata": {
    "collapsed": false
   },
   "outputs": [
    {
     "data": {
      "image/png": "[encoded data removed]",
      "text/plain": [
       "<matplotlib.figure.Figure at 0x1a21422ef0>"
      ]
     },
     "metadata": {},
     "output_type": "display_data"
    }
   ],
   "source": [
    "#Error plot\n",
    "import numpy as np \n",
    "error=mat_rf/mat_rf.sum(axis=1, keepdims=True)\n",
    "np.fill_diagonal(error,0)\n",
    "plt.matshow(error, cmap=plt.cm.Greens)\n",
    "plt.show()"
   ]
  },
  {
   "cell_type": "markdown",
   "metadata": {},
   "source": [
    "The RF classifier seems to mistakenly classify 3s as 5s and vice versa the most, as well as 4s and 9s. "
   ]
  },
  {
   "cell_type": "code",
   "execution_count": 20,
   "metadata": {
    "collapsed": false
   },
   "outputs": [],
   "source": [
    "X_33=X_train[(y_train==3) & (pred_rf==3)]\n",
    "X_55=X_train[(y_train==5) & (pred_rf==5)]\n",
    "X_35=X_train[(y_train==3) & (pred_rf==5)]\n",
    "X_53=X_train[(y_train==5) & (pred_rf==3)]\n"
   ]
  },
  {
   "cell_type": "code",
   "execution_count": 21,
   "metadata": {
    "collapsed": false
   },
   "outputs": [
    {
     "data": {
      "image/png": "[encoded data removed]",
      "text/plain": [
       "<matplotlib.figure.Figure at 0x1a155859e8>"
      ]
     },
     "metadata": {},
     "output_type": "display_data"
    },
    {
     "data": {
      "image/png": "[encoded data removed]",
      "text/plain": [
       "<matplotlib.figure.Figure at 0x1a15922e80>"
      ]
     },
     "metadata": {},
     "output_type": "display_data"
    },
    {
     "data": {
      "image/png": "[encoded data removed]",
      "text/plain": [
       "<matplotlib.figure.Figure at 0x1a134653c8>"
      ]
     },
     "metadata": {},
     "output_type": "display_data"
    },
    {
     "data": {
      "image/png": "[encoded data removed]",
      "text/plain": [
       "<matplotlib.figure.Figure at 0x1a1374b710>"
      ]
     },
     "metadata": {},
     "output_type": "display_data"
    }
   ],
   "source": [
    "def plot_digits(x,y,data): \n",
    "    for _ in range(len(data)):\n",
    "        plt.subplot(x, y, _+1)\n",
    "        im=data[_].reshape(28,28)\n",
    "        plt.imshow(im, cmap = matplotlib.cm.binary, interpolation=\"nearest\")\n",
    "        plt.axis(\"off\")\n",
    "    plt.show()\n",
    "\n",
    "plot_digits(3,3, X_33[:9])\n",
    "plot_digits(3,3, X_35[:9])\n",
    "plot_digits(3,3, X_55[:9])\n",
    "plot_digits(3,3, X_53[:9])"
   ]
  },
  {
   "cell_type": "markdown",
   "metadata": {},
   "source": [
    "# GridSearch: RandomForest"
   ]
  },
  {
   "cell_type": "code",
   "execution_count": 9,
   "metadata": {
    "collapsed": false
   },
   "outputs": [
    {
     "name": "stdout",
     "output_type": "stream",
     "text": [
      "Fitting 3 folds for each of 54 candidates, totalling 162 fits\n",
      "[CV] criterion=gini, max_depth=3, max_features=sqrt, n_estimators=10 .\n",
      "[CV] criterion=gini, max_depth=3, max_features=sqrt, n_estimators=10 .\n",
      "[CV] criterion=gini, max_depth=3, max_features=sqrt, n_estimators=10 .\n",
      "[CV] criterion=gini, max_depth=3, max_features=sqrt, n_estimators=15 .\n",
      "[CV]  criterion=gini, max_depth=3, max_features=sqrt, n_estimators=10, total=   2.4s\n",
      "[CV] criterion=gini, max_depth=3, max_features=sqrt, n_estimators=15 .\n",
      "[CV]  criterion=gini, max_depth=3, max_features=sqrt, n_estimators=10, total=   2.4s\n",
      "[CV]  criterion=gini, max_depth=3, max_features=sqrt, n_estimators=10, total=   2.5s\n",
      "[CV] criterion=gini, max_depth=3, max_features=sqrt, n_estimators=15 .\n",
      "[CV] criterion=gini, max_depth=3, max_features=sqrt, n_estimators=20 .\n",
      "[CV]  criterion=gini, max_depth=3, max_features=sqrt, n_estimators=15, total=   3.3s\n",
      "[CV] criterion=gini, max_depth=3, max_features=sqrt, n_estimators=20 .\n",
      "[CV]  criterion=gini, max_depth=3, max_features=sqrt, n_estimators=15, total=   2.9s\n",
      "[CV] criterion=gini, max_depth=3, max_features=sqrt, n_estimators=20 .\n",
      "[CV]  criterion=gini, max_depth=3, max_features=sqrt, n_estimators=15, total=   3.3s\n",
      "[CV] criterion=gini, max_depth=3, max_features=log2, n_estimators=10 .\n",
      "[CV]  criterion=gini, max_depth=3, max_features=sqrt, n_estimators=20, total=   3.8s\n",
      "[CV] criterion=gini, max_depth=3, max_features=log2, n_estimators=10 .\n",
      "[CV]  criterion=gini, max_depth=3, max_features=log2, n_estimators=10, total=   1.2s\n",
      "[CV] criterion=gini, max_depth=3, max_features=log2, n_estimators=10 .\n",
      "[CV]  criterion=gini, max_depth=3, max_features=sqrt, n_estimators=20, total=   4.3s\n",
      "[CV] criterion=gini, max_depth=3, max_features=log2, n_estimators=15 .\n",
      "[CV]  criterion=gini, max_depth=3, max_features=log2, n_estimators=10, total=   1.3s\n",
      "[CV] criterion=gini, max_depth=3, max_features=log2, n_estimators=15 .\n",
      "[CV]  criterion=gini, max_depth=3, max_features=log2, n_estimators=10, total=   1.5s\n",
      "[CV] criterion=gini, max_depth=3, max_features=log2, n_estimators=15 .\n",
      "[CV]  criterion=gini, max_depth=3, max_features=log2, n_estimators=15, total=   1.5s\n",
      "[CV] criterion=gini, max_depth=3, max_features=log2, n_estimators=20 .\n",
      "[CV]  criterion=gini, max_depth=3, max_features=log2, n_estimators=15, total=   1.3s\n",
      "[CV]  criterion=gini, max_depth=3, max_features=sqrt, n_estimators=20, total=   4.1s\n",
      "[CV] criterion=gini, max_depth=3, max_features=log2, n_estimators=20 .\n",
      "[CV] criterion=gini, max_depth=3, max_features=log2, n_estimators=20 .\n",
      "[CV]  criterion=gini, max_depth=3, max_features=log2, n_estimators=15, total=   1.5s\n",
      "[CV] criterion=gini, max_depth=3, max_features=None, n_estimators=10 .\n",
      "[CV]  criterion=gini, max_depth=3, max_features=log2, n_estimators=20, total=   1.6s\n",
      "[CV] criterion=gini, max_depth=3, max_features=None, n_estimators=10 .\n",
      "[CV]  criterion=gini, max_depth=3, max_features=log2, n_estimators=20, total=   1.6s\n",
      "[CV] criterion=gini, max_depth=3, max_features=None, n_estimators=10 .\n",
      "[CV]  criterion=gini, max_depth=3, max_features=log2, n_estimators=20, total=   1.5s\n",
      "[CV] criterion=gini, max_depth=3, max_features=None, n_estimators=15 .\n",
      "[CV]  criterion=gini, max_depth=3, max_features=None, n_estimators=10, total=  40.5s\n",
      "[CV] criterion=gini, max_depth=3, max_features=None, n_estimators=15 .\n",
      "[CV]  criterion=gini, max_depth=3, max_features=None, n_estimators=10, total=  41.3s\n",
      "[CV] criterion=gini, max_depth=3, max_features=None, n_estimators=15 .\n",
      "[CV]  criterion=gini, max_depth=3, max_features=None, n_estimators=10, total=  41.3s\n",
      "[CV] criterion=gini, max_depth=3, max_features=None, n_estimators=20 .\n",
      "[CV]  criterion=gini, max_depth=3, max_features=None, n_estimators=15, total= 1.0min\n",
      "[CV] criterion=gini, max_depth=3, max_features=None, n_estimators=20 .\n",
      "[CV]  criterion=gini, max_depth=3, max_features=None, n_estimators=15, total= 1.0min\n",
      "[CV] criterion=gini, max_depth=3, max_features=None, n_estimators=20 .\n",
      "[CV]  criterion=gini, max_depth=3, max_features=None, n_estimators=15, total= 1.0min\n",
      "[CV] criterion=gini, max_depth=4, max_features=sqrt, n_estimators=10 .\n",
      "[CV]  criterion=gini, max_depth=4, max_features=sqrt, n_estimators=10, total=   2.1s\n",
      "[CV] criterion=gini, max_depth=4, max_features=sqrt, n_estimators=10 .\n",
      "[CV]  criterion=gini, max_depth=4, max_features=sqrt, n_estimators=10, total=   1.8s\n",
      "[CV] criterion=gini, max_depth=4, max_features=sqrt, n_estimators=10 .\n",
      "[CV]  criterion=gini, max_depth=4, max_features=sqrt, n_estimators=10, total=   1.6s\n",
      "[CV] criterion=gini, max_depth=4, max_features=sqrt, n_estimators=15 .\n",
      "[CV]  criterion=gini, max_depth=4, max_features=sqrt, n_estimators=15, total=   2.6s\n",
      "[CV] criterion=gini, max_depth=4, max_features=sqrt, n_estimators=15 .\n",
      "[CV]  criterion=gini, max_depth=4, max_features=sqrt, n_estimators=15, total=   3.3s\n",
      "[CV] criterion=gini, max_depth=4, max_features=sqrt, n_estimators=15 .\n",
      "[CV]  criterion=gini, max_depth=3, max_features=None, n_estimators=20, total= 1.3min\n",
      "[CV] criterion=gini, max_depth=4, max_features=sqrt, n_estimators=20 .\n",
      "[CV]  criterion=gini, max_depth=4, max_features=sqrt, n_estimators=15, total=   3.2s\n",
      "[CV] criterion=gini, max_depth=4, max_features=sqrt, n_estimators=20 .\n",
      "[CV]  criterion=gini, max_depth=4, max_features=sqrt, n_estimators=20, total=   4.0s\n",
      "[CV] criterion=gini, max_depth=4, max_features=sqrt, n_estimators=20 .\n",
      "[CV]  criterion=gini, max_depth=4, max_features=sqrt, n_estimators=20, total=   3.4s\n",
      "[CV] criterion=gini, max_depth=4, max_features=log2, n_estimators=10 .\n"
     ]
    },
    {
     "name": "stderr",
     "output_type": "stream",
     "text": [
      "[Parallel(n_jobs=-1)]: Done  33 tasks      | elapsed:  2.3min\n"
     ]
    },
    {
     "name": "stdout",
     "output_type": "stream",
     "text": [
      "[CV]  criterion=gini, max_depth=4, max_features=log2, n_estimators=10, total=   0.8s\n",
      "[CV] criterion=gini, max_depth=4, max_features=log2, n_estimators=10 .\n",
      "[CV]  criterion=gini, max_depth=4, max_features=log2, n_estimators=10, total=   1.0s\n",
      "[CV] criterion=gini, max_depth=4, max_features=log2, n_estimators=10 .\n",
      "[CV]  criterion=gini, max_depth=4, max_features=sqrt, n_estimators=20, total=   3.5s\n",
      "[CV] criterion=gini, max_depth=4, max_features=log2, n_estimators=15 .\n",
      "[CV]  criterion=gini, max_depth=4, max_features=log2, n_estimators=10, total=   1.0s\n",
      "[CV] criterion=gini, max_depth=4, max_features=log2, n_estimators=15 .\n",
      "[CV]  criterion=gini, max_depth=4, max_features=log2, n_estimators=15, total=   1.2s\n",
      "[CV] criterion=gini, max_depth=4, max_features=log2, n_estimators=15 .\n",
      "[CV]  criterion=gini, max_depth=4, max_features=log2, n_estimators=15, total=   1.3s\n",
      "[CV] criterion=gini, max_depth=4, max_features=log2, n_estimators=20 .\n",
      "[CV]  criterion=gini, max_depth=4, max_features=log2, n_estimators=15, total=   1.6s\n",
      "[CV] criterion=gini, max_depth=4, max_features=log2, n_estimators=20 .\n",
      "[CV]  criterion=gini, max_depth=4, max_features=log2, n_estimators=20, total=   2.0s\n",
      "[CV] criterion=gini, max_depth=4, max_features=log2, n_estimators=20 .\n",
      "[CV]  criterion=gini, max_depth=4, max_features=log2, n_estimators=20, total=   1.9s\n",
      "[CV] criterion=gini, max_depth=4, max_features=None, n_estimators=10 .\n",
      "[CV]  criterion=gini, max_depth=3, max_features=None, n_estimators=20, total= 1.2min\n",
      "[CV] criterion=gini, max_depth=4, max_features=None, n_estimators=10 .\n",
      "[CV]  criterion=gini, max_depth=4, max_features=log2, n_estimators=20, total=   1.8s\n",
      "[CV] criterion=gini, max_depth=4, max_features=None, n_estimators=10 .\n",
      "[CV]  criterion=gini, max_depth=3, max_features=None, n_estimators=20, total= 1.1min\n",
      "[CV] criterion=gini, max_depth=4, max_features=None, n_estimators=15 .\n",
      "[CV]  criterion=gini, max_depth=4, max_features=None, n_estimators=10, total=  49.0s\n",
      "[CV] criterion=gini, max_depth=4, max_features=None, n_estimators=15 .\n",
      "[CV]  criterion=gini, max_depth=4, max_features=None, n_estimators=10, total=  48.5s\n",
      "[CV] criterion=gini, max_depth=4, max_features=None, n_estimators=15 .\n",
      "[CV]  criterion=gini, max_depth=4, max_features=None, n_estimators=10, total=  48.8s\n",
      "[CV] criterion=gini, max_depth=4, max_features=None, n_estimators=20 .\n",
      "[CV]  criterion=gini, max_depth=4, max_features=None, n_estimators=15, total= 1.2min\n",
      "[CV] criterion=gini, max_depth=4, max_features=None, n_estimators=20 .\n",
      "[CV]  criterion=gini, max_depth=4, max_features=None, n_estimators=15, total= 1.2min\n",
      "[CV] criterion=gini, max_depth=4, max_features=None, n_estimators=20 .\n",
      "[CV]  criterion=gini, max_depth=4, max_features=None, n_estimators=15, total= 1.2min\n",
      "[CV] criterion=gini, max_depth=5, max_features=sqrt, n_estimators=10 .\n",
      "[CV]  criterion=gini, max_depth=5, max_features=sqrt, n_estimators=10, total=   3.2s\n",
      "[CV] criterion=gini, max_depth=5, max_features=sqrt, n_estimators=10 .\n",
      "[CV]  criterion=gini, max_depth=5, max_features=sqrt, n_estimators=10, total=   2.9s\n",
      "[CV] criterion=gini, max_depth=5, max_features=sqrt, n_estimators=10 .\n",
      "[CV]  criterion=gini, max_depth=5, max_features=sqrt, n_estimators=10, total=   3.2s\n",
      "[CV] criterion=gini, max_depth=5, max_features=sqrt, n_estimators=15 .\n",
      "[CV]  criterion=gini, max_depth=5, max_features=sqrt, n_estimators=15, total=   4.6s\n",
      "[CV] criterion=gini, max_depth=5, max_features=sqrt, n_estimators=15 .\n",
      "[CV]  criterion=gini, max_depth=5, max_features=sqrt, n_estimators=15, total=   4.4s\n",
      "[CV] criterion=gini, max_depth=5, max_features=sqrt, n_estimators=15 .\n",
      "[CV]  criterion=gini, max_depth=5, max_features=sqrt, n_estimators=15, total=   4.4s\n",
      "[CV] criterion=gini, max_depth=5, max_features=sqrt, n_estimators=20 .\n",
      "[CV]  criterion=gini, max_depth=4, max_features=None, n_estimators=20, total= 1.6min\n",
      "[CV] criterion=gini, max_depth=5, max_features=sqrt, n_estimators=20 .\n",
      "[CV]  criterion=gini, max_depth=5, max_features=sqrt, n_estimators=20, total=   5.3s\n",
      "[CV] criterion=gini, max_depth=5, max_features=sqrt, n_estimators=20 .\n",
      "[CV]  criterion=gini, max_depth=5, max_features=sqrt, n_estimators=20, total=   5.5s\n",
      "[CV] criterion=gini, max_depth=5, max_features=log2, n_estimators=10 .\n",
      "[CV]  criterion=gini, max_depth=5, max_features=log2, n_estimators=10, total=   1.2s\n",
      "[CV] criterion=gini, max_depth=5, max_features=log2, n_estimators=10 .\n",
      "[CV]  criterion=gini, max_depth=5, max_features=log2, n_estimators=10, total=   1.8s\n",
      "[CV] criterion=gini, max_depth=5, max_features=log2, n_estimators=10 .\n",
      "[CV]  criterion=gini, max_depth=5, max_features=sqrt, n_estimators=20, total=   5.8s\n",
      "[CV] criterion=gini, max_depth=5, max_features=log2, n_estimators=15 .\n",
      "[CV]  criterion=gini, max_depth=5, max_features=log2, n_estimators=10, total=   1.8s\n",
      "[CV] criterion=gini, max_depth=5, max_features=log2, n_estimators=15 .\n",
      "[CV]  criterion=gini, max_depth=5, max_features=log2, n_estimators=15, total=   2.2s\n",
      "[CV] criterion=gini, max_depth=5, max_features=log2, n_estimators=15 .\n",
      "[CV]  criterion=gini, max_depth=5, max_features=log2, n_estimators=15, total=   2.2s\n",
      "[CV] criterion=gini, max_depth=5, max_features=log2, n_estimators=20 .\n",
      "[CV]  criterion=gini, max_depth=5, max_features=log2, n_estimators=15, total=   2.5s\n",
      "[CV] criterion=gini, max_depth=5, max_features=log2, n_estimators=20 .\n",
      "[CV]  criterion=gini, max_depth=5, max_features=log2, n_estimators=20, total=   2.8s\n",
      "[CV] criterion=gini, max_depth=5, max_features=log2, n_estimators=20 .\n",
      "[CV]  criterion=gini, max_depth=5, max_features=log2, n_estimators=20, total=   2.6s\n",
      "[CV] criterion=gini, max_depth=5, max_features=None, n_estimators=10 .\n",
      "[CV]  criterion=gini, max_depth=5, max_features=log2, n_estimators=20, total=   2.7s\n",
      "[CV] criterion=gini, max_depth=5, max_features=None, n_estimators=10 .\n",
      "[CV]  criterion=gini, max_depth=4, max_features=None, n_estimators=20, total= 1.7min\n",
      "[CV] criterion=gini, max_depth=5, max_features=None, n_estimators=10 .\n",
      "[CV]  criterion=gini, max_depth=4, max_features=None, n_estimators=20, total= 1.7min\n",
      "[CV] criterion=gini, max_depth=5, max_features=None, n_estimators=15 .\n",
      "[CV]  criterion=gini, max_depth=5, max_features=None, n_estimators=10, total= 1.0min\n",
      "[CV] criterion=gini, max_depth=5, max_features=None, n_estimators=15 .\n",
      "[CV]  criterion=gini, max_depth=5, max_features=None, n_estimators=10, total= 1.0min\n",
      "[CV] criterion=gini, max_depth=5, max_features=None, n_estimators=15 .\n",
      "[CV]  criterion=gini, max_depth=5, max_features=None, n_estimators=10, total= 1.0min\n",
      "[CV] criterion=gini, max_depth=5, max_features=None, n_estimators=20 .\n",
      "[CV]  criterion=gini, max_depth=5, max_features=None, n_estimators=15, total= 1.5min\n",
      "[CV] criterion=gini, max_depth=5, max_features=None, n_estimators=20 .\n",
      "[CV]  criterion=gini, max_depth=5, max_features=None, n_estimators=15, total= 1.5min\n",
      "[CV]  criterion=gini, max_depth=5, max_features=None, n_estimators=15, total= 1.5min\n",
      "[CV] criterion=gini, max_depth=5, max_features=None, n_estimators=20 .\n",
      "[CV] criterion=entropy, max_depth=3, max_features=sqrt, n_estimators=10 \n",
      "[CV]  criterion=entropy, max_depth=3, max_features=sqrt, n_estimators=10, total=   2.4s\n",
      "[CV] criterion=entropy, max_depth=3, max_features=sqrt, n_estimators=10 \n",
      "[CV]  criterion=entropy, max_depth=3, max_features=sqrt, n_estimators=10, total=   2.3s\n",
      "[CV] criterion=entropy, max_depth=3, max_features=sqrt, n_estimators=10 \n",
      "[CV]  criterion=entropy, max_depth=3, max_features=sqrt, n_estimators=10, total=   2.1s\n",
      "[CV] criterion=entropy, max_depth=3, max_features=sqrt, n_estimators=15 \n",
      "[CV]  criterion=entropy, max_depth=3, max_features=sqrt, n_estimators=15, total=   2.7s\n",
      "[CV] criterion=entropy, max_depth=3, max_features=sqrt, n_estimators=15 \n",
      "[CV]  criterion=entropy, max_depth=3, max_features=sqrt, n_estimators=15, total=   2.6s\n",
      "[CV] criterion=entropy, max_depth=3, max_features=sqrt, n_estimators=15 \n",
      "[CV]  criterion=entropy, max_depth=3, max_features=sqrt, n_estimators=15, total=   2.7s\n",
      "[CV] criterion=entropy, max_depth=3, max_features=sqrt, n_estimators=20 \n",
      "[CV]  criterion=entropy, max_depth=3, max_features=sqrt, n_estimators=20, total=   3.7s\n",
      "[CV] criterion=entropy, max_depth=3, max_features=sqrt, n_estimators=20 \n",
      "[CV]  criterion=entropy, max_depth=3, max_features=sqrt, n_estimators=20, total=   3.7s\n",
      "[CV] criterion=entropy, max_depth=3, max_features=sqrt, n_estimators=20 \n",
      "[CV]  criterion=entropy, max_depth=3, max_features=sqrt, n_estimators=20, total=   3.6s\n",
      "[CV] criterion=entropy, max_depth=3, max_features=log2, n_estimators=10 \n",
      "[CV]  criterion=entropy, max_depth=3, max_features=log2, n_estimators=10, total=   1.0s\n",
      "[CV] criterion=entropy, max_depth=3, max_features=log2, n_estimators=10 \n",
      "[CV]  criterion=entropy, max_depth=3, max_features=log2, n_estimators=10, total=   1.4s\n",
      "[CV] criterion=entropy, max_depth=3, max_features=log2, n_estimators=10 \n",
      "[CV]  criterion=entropy, max_depth=3, max_features=log2, n_estimators=10, total=   0.9s\n",
      "[CV] criterion=entropy, max_depth=3, max_features=log2, n_estimators=15 \n",
      "[CV]  criterion=entropy, max_depth=3, max_features=log2, n_estimators=15, total=   1.4s\n",
      "[CV] criterion=entropy, max_depth=3, max_features=log2, n_estimators=15 \n",
      "[CV]  criterion=entropy, max_depth=3, max_features=log2, n_estimators=15, total=   1.5s\n",
      "[CV] criterion=entropy, max_depth=3, max_features=log2, n_estimators=15 \n",
      "[CV]  criterion=entropy, max_depth=3, max_features=log2, n_estimators=15, total=   1.7s\n",
      "[CV] criterion=entropy, max_depth=3, max_features=log2, n_estimators=20 \n",
      "[CV]  criterion=entropy, max_depth=3, max_features=log2, n_estimators=20, total=   1.5s\n",
      "[CV] criterion=entropy, max_depth=3, max_features=log2, n_estimators=20 \n",
      "[CV]  criterion=entropy, max_depth=3, max_features=log2, n_estimators=20, total=   1.7s\n",
      "[CV] criterion=entropy, max_depth=3, max_features=log2, n_estimators=20 \n",
      "[CV]  criterion=entropy, max_depth=3, max_features=log2, n_estimators=20, total=   1.5s\n",
      "[CV] criterion=entropy, max_depth=3, max_features=None, n_estimators=10 \n",
      "[CV]  criterion=gini, max_depth=5, max_features=None, n_estimators=20, total= 1.9min\n",
      "[CV] criterion=entropy, max_depth=3, max_features=None, n_estimators=10 \n",
      "[CV]  criterion=entropy, max_depth=3, max_features=None, n_estimators=10, total=  38.6s\n",
      "[CV] criterion=entropy, max_depth=3, max_features=None, n_estimators=10 \n",
      "[CV]  criterion=gini, max_depth=5, max_features=None, n_estimators=20, total= 1.9min\n",
      "[CV] criterion=entropy, max_depth=3, max_features=None, n_estimators=15 \n",
      "[CV]  criterion=entropy, max_depth=3, max_features=None, n_estimators=10, total=  43.9s\n",
      "[CV] criterion=entropy, max_depth=3, max_features=None, n_estimators=15 \n",
      "[CV]  criterion=gini, max_depth=5, max_features=None, n_estimators=20, total= 1.9min\n",
      "[CV] criterion=entropy, max_depth=3, max_features=None, n_estimators=15 \n",
      "[CV]  criterion=entropy, max_depth=3, max_features=None, n_estimators=10, total=  42.7s\n",
      "[CV] criterion=entropy, max_depth=3, max_features=None, n_estimators=20 \n",
      "[CV]  criterion=entropy, max_depth=3, max_features=None, n_estimators=15, total=  53.0s\n",
      "[CV] criterion=entropy, max_depth=3, max_features=None, n_estimators=20 \n",
      "[CV]  criterion=entropy, max_depth=3, max_features=None, n_estimators=15, total=  52.7s\n",
      "[CV] criterion=entropy, max_depth=3, max_features=None, n_estimators=20 \n",
      "[CV]  criterion=entropy, max_depth=3, max_features=None, n_estimators=15, total=  51.2s\n",
      "[CV] criterion=entropy, max_depth=4, max_features=sqrt, n_estimators=10 \n",
      "[CV]  criterion=entropy, max_depth=4, max_features=sqrt, n_estimators=10, total=   2.5s\n",
      "[CV] criterion=entropy, max_depth=4, max_features=sqrt, n_estimators=10 \n",
      "[CV]  criterion=entropy, max_depth=4, max_features=sqrt, n_estimators=10, total=   2.6s\n",
      "[CV] criterion=entropy, max_depth=4, max_features=sqrt, n_estimators=10 \n",
      "[CV]  criterion=entropy, max_depth=4, max_features=sqrt, n_estimators=10, total=   2.4s\n",
      "[CV] criterion=entropy, max_depth=4, max_features=sqrt, n_estimators=15 \n",
      "[CV]  criterion=entropy, max_depth=4, max_features=sqrt, n_estimators=15, total=   4.1s\n",
      "[CV] criterion=entropy, max_depth=4, max_features=sqrt, n_estimators=15 \n",
      "[CV]  criterion=entropy, max_depth=4, max_features=sqrt, n_estimators=15, total=   5.1s\n",
      "[CV] criterion=entropy, max_depth=4, max_features=sqrt, n_estimators=15 \n",
      "[CV]  criterion=entropy, max_depth=4, max_features=sqrt, n_estimators=15, total=   4.4s\n",
      "[CV] criterion=entropy, max_depth=4, max_features=sqrt, n_estimators=20 \n",
      "[CV]  criterion=entropy, max_depth=4, max_features=sqrt, n_estimators=20, total=   5.1s\n",
      "[CV] criterion=entropy, max_depth=4, max_features=sqrt, n_estimators=20 \n",
      "[CV]  criterion=entropy, max_depth=4, max_features=sqrt, n_estimators=20, total=   8.4s\n",
      "[CV] criterion=entropy, max_depth=4, max_features=sqrt, n_estimators=20 \n",
      "[CV]  criterion=entropy, max_depth=3, max_features=None, n_estimators=20, total= 1.3min\n",
      "[CV] criterion=entropy, max_depth=4, max_features=log2, n_estimators=10 \n",
      "[CV]  criterion=entropy, max_depth=4, max_features=log2, n_estimators=10, total=   1.6s\n",
      "[CV] criterion=entropy, max_depth=4, max_features=log2, n_estimators=10 \n",
      "[CV]  criterion=entropy, max_depth=4, max_features=log2, n_estimators=10, total=   1.9s\n",
      "[CV] criterion=entropy, max_depth=4, max_features=log2, n_estimators=10 \n",
      "[CV]  criterion=entropy, max_depth=4, max_features=sqrt, n_estimators=20, total=   6.7s\n",
      "[CV]  criterion=entropy, max_depth=4, max_features=log2, n_estimators=10, total=   1.7s\n",
      "[CV] criterion=entropy, max_depth=4, max_features=log2, n_estimators=15 \n",
      "[CV] criterion=entropy, max_depth=4, max_features=log2, n_estimators=15 \n",
      "[CV]  criterion=entropy, max_depth=4, max_features=log2, n_estimators=15, total=   2.3s\n",
      "[CV]  criterion=entropy, max_depth=4, max_features=log2, n_estimators=15, total=   2.2s\n",
      "[CV] criterion=entropy, max_depth=4, max_features=log2, n_estimators=15 \n",
      "[CV] criterion=entropy, max_depth=4, max_features=log2, n_estimators=20 \n",
      "[CV]  criterion=entropy, max_depth=4, max_features=log2, n_estimators=15, total=   2.0s\n",
      "[CV] criterion=entropy, max_depth=4, max_features=log2, n_estimators=20 \n",
      "[CV]  criterion=entropy, max_depth=4, max_features=log2, n_estimators=20, total=   2.5s\n",
      "[CV] criterion=entropy, max_depth=4, max_features=log2, n_estimators=20 \n",
      "[CV]  criterion=entropy, max_depth=4, max_features=log2, n_estimators=20, total=   2.8s\n",
      "[CV] criterion=entropy, max_depth=4, max_features=None, n_estimators=10 \n",
      "[CV]  criterion=entropy, max_depth=4, max_features=log2, n_estimators=20, total=   3.1s\n",
      "[CV] criterion=entropy, max_depth=4, max_features=None, n_estimators=10 \n",
      "[CV]  criterion=entropy, max_depth=3, max_features=None, n_estimators=20, total= 1.4min\n",
      "[CV] criterion=entropy, max_depth=4, max_features=None, n_estimators=10 \n",
      "[CV]  criterion=entropy, max_depth=3, max_features=None, n_estimators=20, total= 1.4min\n",
      "[CV] criterion=entropy, max_depth=4, max_features=None, n_estimators=15 \n",
      "[CV]  criterion=entropy, max_depth=4, max_features=None, n_estimators=10, total=  51.0s\n",
      "[CV] criterion=entropy, max_depth=4, max_features=None, n_estimators=15 \n",
      "[CV]  criterion=entropy, max_depth=4, max_features=None, n_estimators=10, total=  52.8s\n",
      "[CV] criterion=entropy, max_depth=4, max_features=None, n_estimators=15 \n",
      "[CV]  criterion=entropy, max_depth=4, max_features=None, n_estimators=10, total=  50.5s\n",
      "[CV] criterion=entropy, max_depth=4, max_features=None, n_estimators=20 \n",
      "[CV]  criterion=entropy, max_depth=4, max_features=None, n_estimators=15, total= 1.2min\n",
      "[CV] criterion=entropy, max_depth=4, max_features=None, n_estimators=20 \n",
      "[CV]  criterion=entropy, max_depth=4, max_features=None, n_estimators=15, total= 1.2min\n",
      "[CV] criterion=entropy, max_depth=4, max_features=None, n_estimators=20 \n",
      "[CV]  criterion=entropy, max_depth=4, max_features=None, n_estimators=15, total= 1.2min\n",
      "[CV] criterion=entropy, max_depth=5, max_features=sqrt, n_estimators=10 \n",
      "[CV]  criterion=entropy, max_depth=5, max_features=sqrt, n_estimators=10, total=   3.0s\n",
      "[CV] criterion=entropy, max_depth=5, max_features=sqrt, n_estimators=10 \n",
      "[CV]  criterion=entropy, max_depth=5, max_features=sqrt, n_estimators=10, total=   3.1s\n",
      "[CV] criterion=entropy, max_depth=5, max_features=sqrt, n_estimators=10 \n",
      "[CV]  criterion=entropy, max_depth=5, max_features=sqrt, n_estimators=10, total=   3.1s\n",
      "[CV] criterion=entropy, max_depth=5, max_features=sqrt, n_estimators=15 \n",
      "[CV]  criterion=entropy, max_depth=5, max_features=sqrt, n_estimators=15, total=   4.4s\n",
      "[CV] criterion=entropy, max_depth=5, max_features=sqrt, n_estimators=15 \n",
      "[CV]  criterion=entropy, max_depth=5, max_features=sqrt, n_estimators=15, total=   4.5s\n",
      "[CV] criterion=entropy, max_depth=5, max_features=sqrt, n_estimators=15 \n",
      "[CV]  criterion=entropy, max_depth=5, max_features=sqrt, n_estimators=15, total=   4.4s\n",
      "[CV] criterion=entropy, max_depth=5, max_features=sqrt, n_estimators=20 \n",
      "[CV]  criterion=entropy, max_depth=5, max_features=sqrt, n_estimators=20, total=   5.7s\n",
      "[CV] criterion=entropy, max_depth=5, max_features=sqrt, n_estimators=20 \n",
      "[CV]  criterion=entropy, max_depth=5, max_features=sqrt, n_estimators=20, total=   6.1s\n",
      "[CV] criterion=entropy, max_depth=5, max_features=sqrt, n_estimators=20 \n",
      "[CV]  criterion=entropy, max_depth=5, max_features=sqrt, n_estimators=20, total=   8.2s\n",
      "[CV] criterion=entropy, max_depth=5, max_features=log2, n_estimators=10 \n",
      "[CV]  criterion=entropy, max_depth=5, max_features=log2, n_estimators=10, total=   1.4s\n",
      "[CV] criterion=entropy, max_depth=5, max_features=log2, n_estimators=10 \n",
      "[CV]  criterion=entropy, max_depth=5, max_features=log2, n_estimators=10, total=   1.5s\n",
      "[CV] criterion=entropy, max_depth=5, max_features=log2, n_estimators=10 \n",
      "[CV]  criterion=entropy, max_depth=4, max_features=None, n_estimators=20, total= 1.7min\n",
      "[CV] criterion=entropy, max_depth=5, max_features=log2, n_estimators=15 \n",
      "[CV]  criterion=entropy, max_depth=5, max_features=log2, n_estimators=10, total=   1.6s\n",
      "[CV] criterion=entropy, max_depth=5, max_features=log2, n_estimators=15 \n",
      "[CV]  criterion=entropy, max_depth=5, max_features=log2, n_estimators=15, total=   2.5s\n",
      "[CV] criterion=entropy, max_depth=5, max_features=log2, n_estimators=15 \n",
      "[CV]  criterion=entropy, max_depth=5, max_features=log2, n_estimators=15, total=   2.7s\n",
      "[CV] criterion=entropy, max_depth=5, max_features=log2, n_estimators=20 \n",
      "[CV]  criterion=entropy, max_depth=5, max_features=log2, n_estimators=15, total=   2.0s\n",
      "[CV] criterion=entropy, max_depth=5, max_features=log2, n_estimators=20 \n",
      "[CV]  criterion=entropy, max_depth=5, max_features=log2, n_estimators=20, total=   2.2s\n",
      "[CV] criterion=entropy, max_depth=5, max_features=log2, n_estimators=20 \n",
      "[CV]  criterion=entropy, max_depth=5, max_features=log2, n_estimators=20, total=   1.9s\n",
      "[CV] criterion=entropy, max_depth=5, max_features=None, n_estimators=10 \n",
      "[CV]  criterion=entropy, max_depth=5, max_features=log2, n_estimators=20, total=   1.8s\n",
      "[CV] criterion=entropy, max_depth=5, max_features=None, n_estimators=10 \n",
      "[CV]  criterion=entropy, max_depth=4, max_features=None, n_estimators=20, total= 1.6min\n",
      "[CV] criterion=entropy, max_depth=5, max_features=None, n_estimators=10 \n",
      "[CV]  criterion=entropy, max_depth=4, max_features=None, n_estimators=20, total= 1.7min\n",
      "[CV] criterion=entropy, max_depth=5, max_features=None, n_estimators=15 \n",
      "[CV]  criterion=entropy, max_depth=5, max_features=None, n_estimators=10, total= 1.1min\n",
      "[CV] criterion=entropy, max_depth=5, max_features=None, n_estimators=15 \n"
     ]
    },
    {
     "name": "stderr",
     "output_type": "stream",
     "text": [
      "[Parallel(n_jobs=-1)]: Done 154 tasks      | elapsed: 15.7min\n"
     ]
    },
    {
     "name": "stdout",
     "output_type": "stream",
     "text": [
      "[CV]  criterion=entropy, max_depth=5, max_features=None, n_estimators=10, total= 1.1min\n",
      "[CV] criterion=entropy, max_depth=5, max_features=None, n_estimators=15 \n",
      "[CV]  criterion=entropy, max_depth=5, max_features=None, n_estimators=10, total= 1.1min\n",
      "[CV] criterion=entropy, max_depth=5, max_features=None, n_estimators=20 \n",
      "[CV]  criterion=entropy, max_depth=5, max_features=None, n_estimators=15, total= 1.5min\n",
      "[CV] criterion=entropy, max_depth=5, max_features=None, n_estimators=20 \n",
      "[CV]  criterion=entropy, max_depth=5, max_features=None, n_estimators=15, total= 1.5min\n",
      "[CV] criterion=entropy, max_depth=5, max_features=None, n_estimators=20 \n",
      "[CV]  criterion=entropy, max_depth=5, max_features=None, n_estimators=15, total= 1.5min\n",
      "[CV]  criterion=entropy, max_depth=5, max_features=None, n_estimators=20, total= 1.9min\n",
      "[CV]  criterion=entropy, max_depth=5, max_features=None, n_estimators=20, total= 1.6min\n",
      "[CV]  criterion=entropy, max_depth=5, max_features=None, n_estimators=20, total= 1.4min\n"
     ]
    },
    {
     "name": "stderr",
     "output_type": "stream",
     "text": [
      "[Parallel(n_jobs=-1)]: Done 162 out of 162 | elapsed: 18.6min finished\n"
     ]
    },
    {
     "data": {
      "text/plain": [
       "GridSearchCV(cv=3, error_score='raise',\n",
       "       estimator=RandomForestClassifier(bootstrap=True, class_weight=None, criterion='gini',\n",
       "            max_depth=None, max_features='auto', max_leaf_nodes=None,\n",
       "            min_impurity_decrease=0.0, min_impurity_split=None,\n",
       "            min_samples_leaf=1, min_samples_split=2,\n",
       "            min_weight_fraction_leaf=0.0, n_estimators=10, n_jobs=1,\n",
       "            oob_score=False, random_state=None, verbose=0,\n",
       "            warm_start=False),\n",
       "       fit_params=None, iid=True, n_jobs=-1,\n",
       "       param_grid=[{'n_estimators': [10, 15, 20], 'criterion': ['gini', 'entropy'], 'max_features': ['sqrt', 'log2', None], 'max_depth': [3, 4, 5]}],\n",
       "       pre_dispatch='2*n_jobs', refit=True, return_train_score='warn',\n",
       "       scoring=None, verbose=2)"
      ]
     },
     "execution_count": 9,
     "metadata": {},
     "output_type": "execute_result"
    }
   ],
   "source": [
    "from sklearn.model_selection import GridSearchCV\n",
    "from sklearn.ensemble import RandomForestClassifier\n",
    "\n",
    "paras=[{'n_estimators':[10, 15, 20], 'criterion':[\"gini\", \"entropy\"], \n",
    "        'max_features':[\"sqrt\",\"log2\", None], 'max_depth':[3,4,5]}]\n",
    "\n",
    "RF_search=RandomForestClassifier()\n",
    "grid_search = GridSearchCV(RF_search, paras, cv=3, verbose=2, n_jobs=-1)\n",
    "grid_search.fit(X_train, y_train)"
   ]
  },
  {
   "cell_type": "code",
   "execution_count": 13,
   "metadata": {
    "collapsed": false
   },
   "outputs": [
    {
     "name": "stdout",
     "output_type": "stream",
     "text": [
      "Best parameter combination found: {'criterion': 'entropy', 'max_depth': 5, 'max_features': 'sqrt', 'n_estimators': 20}\n",
      "Best accuracy found: 0.833766666667\n"
     ]
    }
   ],
   "source": [
    "print('Best parameter combination found:', grid_search.best_params_)\n",
    "print('Best accuracy found:', grid_search.best_score_)"
   ]
  },
  {
   "cell_type": "markdown",
   "metadata": {},
   "source": [
    "This diminishing of accuracy is probably because of limiting the depth of trees (pruning). "
   ]
  },
  {
   "cell_type": "markdown",
   "metadata": {},
   "source": [
    "# Multilabel Classifier"
   ]
  },
  {
   "cell_type": "code",
   "execution_count": 22,
   "metadata": {
    "collapsed": false
   },
   "outputs": [],
   "source": [
    "label_1= (y_train <= 6)\n",
    "label_2= (y_train % 2 == 0)\n",
    "label_3= (y_train % 3 ==0)\n",
    "label= np.c_[label_1,label_2,label_3]"
   ]
  },
  {
   "cell_type": "code",
   "execution_count": 23,
   "metadata": {
    "collapsed": false
   },
   "outputs": [
    {
     "data": {
      "image/png": "[encoded data removed]",
      "text/plain": [
       "<matplotlib.figure.Figure at 0x10bc282e8>"
      ]
     },
     "metadata": {},
     "output_type": "display_data"
    },
    {
     "data": {
      "text/plain": [
       "array([[ True, False, False]], dtype=bool)"
      ]
     },
     "execution_count": 23,
     "metadata": {},
     "output_type": "execute_result"
    }
   ],
   "source": [
    "from sklearn.neighbors import KNeighborsClassifier\n",
    "\n",
    "KNN=KNeighborsClassifier(p=2)\n",
    "KNN.fit(X_train, label)\n",
    "test_1=X_train[34567]\n",
    "plot_mnist(test_1)\n",
    "KNN.predict([test_1])"
   ]
  },
  {
   "cell_type": "markdown",
   "metadata": {},
   "source": [
    "# Noise Filtering"
   ]
  },
  {
   "cell_type": "code",
   "execution_count": 24,
   "metadata": {
    "collapsed": false
   },
   "outputs": [
    {
     "data": {
      "text/plain": [
       "KNeighborsClassifier(algorithm='auto', leaf_size=30, metric='minkowski',\n",
       "           metric_params=None, n_jobs=1, n_neighbors=5, p=2,\n",
       "           weights='uniform')"
      ]
     },
     "execution_count": 24,
     "metadata": {},
     "output_type": "execute_result"
    }
   ],
   "source": [
    "import numpy as np\n",
    "noise=np.random.randint(0, 100, (len(X_train), 28*28) )\n",
    "noisy=X_train+noise\n",
    "clean=X_train \n",
    "clean_model=KNeighborsClassifier(p=2)\n",
    "clean_model.fit(noisy, clean)"
   ]
  },
  {
   "cell_type": "code",
   "execution_count": 25,
   "metadata": {
    "collapsed": false
   },
   "outputs": [
    {
     "data": {
      "image/png": "[encoded data removed]",
      "text/plain": [
       "<matplotlib.figure.Figure at 0x1a158e7240>"
      ]
     },
     "metadata": {},
     "output_type": "display_data"
    },
    {
     "data": {
      "image/png": "[encoded data removed]",
      "text/plain": [
       "<matplotlib.figure.Figure at 0x1a15902e48>"
      ]
     },
     "metadata": {},
     "output_type": "display_data"
    },
    {
     "data": {
      "image/png": "[encoded data removed]",
      "text/plain": [
       "<matplotlib.figure.Figure at 0x1a158e4b00>"
      ]
     },
     "metadata": {},
     "output_type": "display_data"
    }
   ],
   "source": [
    "im1=noisy[32456]\n",
    "im2=clean_model.predict([im1])\n",
    "plot_mnist(X_train[32456])\n",
    "plot_mnist(im1)\n",
    "plot_mnist(im2)"
   ]
  }
 ],
 "metadata": {
  "kernelspec": {
   "display_name": "Python 3",
   "language": "python",
   "name": "python3"
  },
  "language_info": {
   "codemirror_mode": {
    "name": "ipython",
    "version": 3
   },
   "file_extension": ".py",
   "mimetype": "text/x-python",
   "name": "python",
   "nbconvert_exporter": "python",
   "pygments_lexer": "ipython3",
   "version": "3.6.0"
  }
 },
 "nbformat": 4,
 "nbformat_minor": 2
}
